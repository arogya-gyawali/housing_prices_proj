{
 "cells": [
  {
   "cell_type": "code",
   "execution_count": 17,
   "id": "29fb6032",
   "metadata": {},
   "outputs": [],
   "source": [
    "import pandas as pd\n",
    "path = \"/Users/aarogyagyawali/Desktop\""
   ]
  },
  {
   "cell_type": "code",
   "execution_count": 18,
   "id": "a5d28717",
   "metadata": {},
   "outputs": [],
   "source": [
    "df = pd.read_csv('California_Houses.csv')"
   ]
  },
  {
   "cell_type": "code",
   "execution_count": 19,
   "id": "6c526681",
   "metadata": {},
   "outputs": [
    {
     "name": "stdout",
     "output_type": "stream",
     "text": [
      "<bound method DataFrame.info of        Median_House_Value  Median_Income  Median_Age  Tot_Rooms  Tot_Bedrooms  \\\n",
      "0                452600.0         8.3252          41        880           129   \n",
      "1                358500.0         8.3014          21       7099          1106   \n",
      "2                352100.0         7.2574          52       1467           190   \n",
      "3                341300.0         5.6431          52       1274           235   \n",
      "4                342200.0         3.8462          52       1627           280   \n",
      "...                   ...            ...         ...        ...           ...   \n",
      "20635             78100.0         1.5603          25       1665           374   \n",
      "20636             77100.0         2.5568          18        697           150   \n",
      "20637             92300.0         1.7000          17       2254           485   \n",
      "20638             84700.0         1.8672          18       1860           409   \n",
      "20639             89400.0         2.3886          16       2785           616   \n",
      "\n",
      "       Population  Households  Latitude  Longitude  Distance_to_coast  \\\n",
      "0             322         126     37.88    -122.23        9263.040773   \n",
      "1            2401        1138     37.86    -122.22       10225.733070   \n",
      "2             496         177     37.85    -122.24        8259.085109   \n",
      "3             558         219     37.85    -122.25        7768.086571   \n",
      "4             565         259     37.85    -122.25        7768.086571   \n",
      "...           ...         ...       ...        ...                ...   \n",
      "20635         845         330     39.48    -121.09      162031.481100   \n",
      "20636         356         114     39.49    -121.21      160445.433500   \n",
      "20637        1007         433     39.43    -121.22      153754.341200   \n",
      "20638         741         349     39.43    -121.32      152005.022200   \n",
      "20639        1387         530     39.37    -121.24      146866.196900   \n",
      "\n",
      "       Distance_to_LA  Distance_to_SanDiego  Distance_to_SanJose  \\\n",
      "0         556529.1583           735501.8070          67432.51700   \n",
      "1         554279.8501           733236.8844          65049.90857   \n",
      "2         554610.7171           733525.6829          64867.28983   \n",
      "3         555194.2661           734095.2907          65287.13841   \n",
      "4         555194.2661           734095.2907          65287.13841   \n",
      "...               ...                   ...                  ...   \n",
      "20635     654530.1863           830631.5430         248510.05820   \n",
      "20636     659747.0684           836245.9152         246849.88890   \n",
      "20637     654042.2140           830699.5732         240172.22050   \n",
      "20638     657698.0077           834672.4619         238193.86590   \n",
      "20639     648723.3371           825569.1790         233282.76910   \n",
      "\n",
      "       Distance_to_SanFrancisco  \n",
      "0                   21250.21377  \n",
      "1                   20880.60040  \n",
      "2                   18811.48745  \n",
      "3                   18031.04757  \n",
      "4                   18031.04757  \n",
      "...                         ...  \n",
      "20635              222619.89040  \n",
      "20636              218314.42460  \n",
      "20637              212097.93620  \n",
      "20638              207923.19920  \n",
      "20639              205473.37660  \n",
      "\n",
      "[20640 rows x 14 columns]>\n"
     ]
    }
   ],
   "source": [
    "print(df.info)"
   ]
  },
  {
   "cell_type": "code",
   "execution_count": 20,
   "id": "261232fa",
   "metadata": {},
   "outputs": [
    {
     "name": "stdout",
     "output_type": "stream",
     "text": [
      "   Median_House_Value  Median_Income  Median_Age  Tot_Rooms  Tot_Bedrooms  \\\n",
      "0            452600.0         8.3252          41        880           129   \n",
      "1            358500.0         8.3014          21       7099          1106   \n",
      "2            352100.0         7.2574          52       1467           190   \n",
      "3            341300.0         5.6431          52       1274           235   \n",
      "4            342200.0         3.8462          52       1627           280   \n",
      "\n",
      "   Population  Households  Latitude  Longitude  Distance_to_coast  \\\n",
      "0         322         126     37.88    -122.23        9263.040773   \n",
      "1        2401        1138     37.86    -122.22       10225.733070   \n",
      "2         496         177     37.85    -122.24        8259.085109   \n",
      "3         558         219     37.85    -122.25        7768.086571   \n",
      "4         565         259     37.85    -122.25        7768.086571   \n",
      "\n",
      "   Distance_to_LA  Distance_to_SanDiego  Distance_to_SanJose  \\\n",
      "0     556529.1583           735501.8070          67432.51700   \n",
      "1     554279.8501           733236.8844          65049.90857   \n",
      "2     554610.7171           733525.6829          64867.28983   \n",
      "3     555194.2661           734095.2907          65287.13841   \n",
      "4     555194.2661           734095.2907          65287.13841   \n",
      "\n",
      "   Distance_to_SanFrancisco  \n",
      "0               21250.21377  \n",
      "1               20880.60040  \n",
      "2               18811.48745  \n",
      "3               18031.04757  \n",
      "4               18031.04757  \n"
     ]
    }
   ],
   "source": [
    "print(df.head())"
   ]
  },
  {
   "cell_type": "code",
   "execution_count": 21,
   "id": "989b0582",
   "metadata": {},
   "outputs": [
    {
     "name": "stdout",
     "output_type": "stream",
     "text": [
      "['Median_House_Value', 'Median_Income', 'Median_Age', 'Tot_Rooms', 'Tot_Bedrooms', 'Population', 'Households', 'Latitude', 'Longitude', 'Distance_to_coast', 'Distance_to_LA', 'Distance_to_SanDiego', 'Distance_to_SanJose', 'Distance_to_SanFrancisco']\n"
     ]
    }
   ],
   "source": [
    "header = df.columns.tolist()\n",
    "print(header)"
   ]
  },
  {
   "cell_type": "code",
   "execution_count": 22,
   "id": "206a3a6c",
   "metadata": {},
   "outputs": [
    {
     "name": "stdout",
     "output_type": "stream",
     "text": [
      "       Median_House_Value  Median_Income    Median_Age     Tot_Rooms  \\\n",
      "count        20640.000000   20640.000000  20640.000000  20640.000000   \n",
      "mean        206855.816909       3.870671     28.639486   2635.763081   \n",
      "std         115395.615874       1.899822     12.585558   2181.615252   \n",
      "min          14999.000000       0.499900      1.000000      2.000000   \n",
      "25%         119600.000000       2.563400     18.000000   1447.750000   \n",
      "50%         179700.000000       3.534800     29.000000   2127.000000   \n",
      "75%         264725.000000       4.743250     37.000000   3148.000000   \n",
      "max         500001.000000      15.000100     52.000000  39320.000000   \n",
      "\n",
      "       Tot_Bedrooms    Population    Households      Latitude     Longitude  \\\n",
      "count  20640.000000  20640.000000  20640.000000  20640.000000  20640.000000   \n",
      "mean     537.898014   1425.476744    499.539680     35.631861   -119.569704   \n",
      "std      421.247906   1132.462122    382.329753      2.135952      2.003532   \n",
      "min        1.000000      3.000000      1.000000     32.540000   -124.350000   \n",
      "25%      295.000000    787.000000    280.000000     33.930000   -121.800000   \n",
      "50%      435.000000   1166.000000    409.000000     34.260000   -118.490000   \n",
      "75%      647.000000   1725.000000    605.000000     37.710000   -118.010000   \n",
      "max     6445.000000  35682.000000   6082.000000     41.950000   -114.310000   \n",
      "\n",
      "       Distance_to_coast  Distance_to_LA  Distance_to_SanDiego  \\\n",
      "count       20640.000000    2.064000e+04          2.064000e+04   \n",
      "mean        40509.264883    2.694220e+05          3.981649e+05   \n",
      "std         49140.039160    2.477324e+05          2.894006e+05   \n",
      "min           120.676447    4.205891e+02          4.849180e+02   \n",
      "25%          9079.756762    3.211125e+04          1.594264e+05   \n",
      "50%         20522.019100    1.736675e+05          2.147398e+05   \n",
      "75%         49830.414478    5.271562e+05          7.057954e+05   \n",
      "max        333804.686400    1.018260e+06          1.196919e+06   \n",
      "\n",
      "       Distance_to_SanJose  Distance_to_SanFrancisco  \n",
      "count         20640.000000              20640.000000  \n",
      "mean         349187.551219             386688.422291  \n",
      "std          217149.875026             250122.192316  \n",
      "min             569.448118                456.141313  \n",
      "25%          113119.928650             117395.477500  \n",
      "50%          459758.877000             526546.661700  \n",
      "75%          516946.491000             584552.007950  \n",
      "max          836762.678200             903627.663300  \n"
     ]
    }
   ],
   "source": [
    "print(df.describe())"
   ]
  },
  {
   "cell_type": "code",
   "execution_count": 23,
   "id": "439ff6fe",
   "metadata": {},
   "outputs": [
    {
     "name": "stdout",
     "output_type": "stream",
     "text": [
      "Median_House_Value          float64\n",
      "Median_Income               float64\n",
      "Median_Age                    int64\n",
      "Tot_Rooms                     int64\n",
      "Tot_Bedrooms                  int64\n",
      "Population                    int64\n",
      "Households                    int64\n",
      "Latitude                    float64\n",
      "Longitude                   float64\n",
      "Distance_to_coast           float64\n",
      "Distance_to_LA              float64\n",
      "Distance_to_SanDiego        float64\n",
      "Distance_to_SanJose         float64\n",
      "Distance_to_SanFrancisco    float64\n",
      "dtype: object\n"
     ]
    }
   ],
   "source": [
    "print(df.dtypes)"
   ]
  },
  {
   "cell_type": "code",
   "execution_count": 24,
   "id": "9bd5d70b",
   "metadata": {},
   "outputs": [],
   "source": [
    "# Handling missing values\n",
    "df.dropna(inplace=True)  # Drop rows with missing values"
   ]
  },
  {
   "cell_type": "code",
   "execution_count": 25,
   "id": "bc3b2101",
   "metadata": {},
   "outputs": [
    {
     "name": "stdout",
     "output_type": "stream",
     "text": [
      "(20640, 14)\n"
     ]
    }
   ],
   "source": [
    "print(df.shape)"
   ]
  },
  {
   "cell_type": "code",
   "execution_count": null,
   "id": "0b0f6833",
   "metadata": {},
   "outputs": [],
   "source": []
  }
 ],
 "metadata": {
  "kernelspec": {
   "display_name": "Python 3 (ipykernel)",
   "language": "python",
   "name": "python3"
  },
  "language_info": {
   "codemirror_mode": {
    "name": "ipython",
    "version": 3
   },
   "file_extension": ".py",
   "mimetype": "text/x-python",
   "name": "python",
   "nbconvert_exporter": "python",
   "pygments_lexer": "ipython3",
   "version": "3.10.12"
  }
 },
 "nbformat": 4,
 "nbformat_minor": 5
}
